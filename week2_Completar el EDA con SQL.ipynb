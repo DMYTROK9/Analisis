{
 "cells": [
  {
   "cell_type": "markdown",
   "metadata": {},
   "source": [
    "<p style=\"text-align:center\">\n",
    "    <a href=\"https://skills.network\" target=\"_blank\">\n",
    "    <img src=\"https://cf-courses-data.s3.us.cloud-object-storage.appdomain.cloud/assets/logos/SN_web_lightmode.png\" width=\"200\" alt=\"Skills Network Logo\">\n",
    "    </a>\n",
    "</p>\n",
    "\n",
    "<h1 align=center><font size = 5>Assignment: SQL Notebook for Peer Assignment</font></h1>\n",
    "\n",
    "Estimated time needed: **60** minutes.\n",
    "\n",
    "## Introduction\n",
    "Using this Python notebook you will:\n",
    "\n",
    "1.  Understand the Spacex DataSet\n",
    "2.  Load the dataset  into the corresponding table in a Db2 database\n",
    "3.  Execute SQL queries to answer assignment questions \n"
   ]
  },
  {
   "cell_type": "markdown",
   "metadata": {},
   "source": [
    "## Overview of the DataSet\n",
    "\n",
    "SpaceX has gained worldwide attention for a series of historic milestones. \n",
    "\n",
    "It is the only private company ever to return a spacecraft from low-earth orbit, which it first accomplished in December 2010.\n",
    "SpaceX advertises Falcon 9 rocket launches on its website with a cost of 62 million dollars wheras other providers cost upward of 165 million dollars each, much of the savings is because Space X can reuse the first stage. \n",
    "\n",
    "\n",
    "Therefore if we can determine if the first stage will land, we can determine the cost of a launch. \n",
    "\n",
    "This information can be used if an alternate company wants to bid against SpaceX for a rocket launch.\n",
    "\n",
    "This dataset includes a record for each payload carried during a SpaceX mission into outer space.\n"
   ]
  },
  {
   "cell_type": "markdown",
   "metadata": {},
   "source": [
    "### Download the datasets\n",
    "\n",
    "This assignment requires you to load the spacex dataset.\n",
    "\n",
    "In many cases the dataset to be analyzed is available as a .CSV (comma separated values) file, perhaps on the internet. Click on the link below to download and save the dataset (.CSV file):\n",
    "\n",
    " <a href=\"https://cf-courses-data.s3.us.cloud-object-storage.appdomain.cloud/IBM-DS0321EN-SkillsNetwork/labs/module_2/data/Spacex.csv\" target=\"_blank\">Spacex DataSet</a>\n",
    "\n"
   ]
  },
  {
   "cell_type": "code",
   "execution_count": 1,
   "metadata": {},
   "outputs": [
    {
     "name": "stdout",
     "output_type": "stream",
     "text": [
      "Collecting sqlalchemy==1.3.9\n",
      "  Downloading SQLAlchemy-1.3.9.tar.gz (6.0 MB)\n",
      "\u001b[2K     \u001b[90m━━━━━━━━━━━━━━━━━━━━━━━━━━━━━━━━━━━━━━━━\u001b[0m \u001b[32m6.0/6.0 MB\u001b[0m \u001b[31m105.4 MB/s\u001b[0m eta \u001b[36m0:00:00\u001b[0m00:01\u001b[0m\n",
      "\u001b[?25h  Preparing metadata (setup.py) ... \u001b[?25ldone\n",
      "\u001b[?25hBuilding wheels for collected packages: sqlalchemy\n",
      "  Building wheel for sqlalchemy (setup.py) ... \u001b[?25ldone\n",
      "\u001b[?25h  Created wheel for sqlalchemy: filename=SQLAlchemy-1.3.9-cp311-cp311-linux_x86_64.whl size=1142923 sha256=e741080eb252b4fc157a8100fbb8d45d1760c93567fc327c31e9c39f61607851\n",
      "  Stored in directory: /home/jupyterlab/.cache/pip/wheels/3a/7c/1e/12404784a68083eb969f877a1808a1847bab897684b56ddc55\n",
      "Successfully built sqlalchemy\n",
      "Installing collected packages: sqlalchemy\n",
      "  Attempting uninstall: sqlalchemy\n",
      "    Found existing installation: SQLAlchemy 2.0.30\n",
      "    Uninstalling SQLAlchemy-2.0.30:\n",
      "      Successfully uninstalled SQLAlchemy-2.0.30\n",
      "\u001b[31mERROR: pip's dependency resolver does not currently take into account all the packages that are installed. This behaviour is the source of the following dependency conflicts.\n",
      "jupyterhub 4.1.5 requires SQLAlchemy>=1.4, but you have sqlalchemy 1.3.9 which is incompatible.\u001b[0m\u001b[31m\n",
      "\u001b[0mSuccessfully installed sqlalchemy-1.3.9\n"
     ]
    }
   ],
   "source": [
    "!pip install sqlalchemy==1.3.9\n"
   ]
  },
  {
   "cell_type": "markdown",
   "metadata": {},
   "source": [
    "### Connect to the database\n",
    "\n",
    "Let us first load the SQL extension and establish a connection with the database\n"
   ]
  },
  {
   "cell_type": "code",
   "execution_count": 2,
   "metadata": {},
   "outputs": [
    {
     "name": "stdout",
     "output_type": "stream",
     "text": [
      "Collecting ipython-sql\n",
      "  Downloading ipython_sql-0.5.0-py3-none-any.whl.metadata (17 kB)\n",
      "Collecting prettytable (from ipython-sql)\n",
      "  Downloading prettytable-3.11.0-py3-none-any.whl.metadata (30 kB)\n",
      "Requirement already satisfied: ipython in /opt/conda/lib/python3.11/site-packages (from ipython-sql) (8.22.2)\n",
      "Collecting sqlalchemy>=2.0 (from ipython-sql)\n",
      "  Downloading SQLAlchemy-2.0.34-cp311-cp311-manylinux_2_17_x86_64.manylinux2014_x86_64.whl.metadata (9.6 kB)\n",
      "Collecting sqlparse (from ipython-sql)\n",
      "  Downloading sqlparse-0.5.1-py3-none-any.whl.metadata (3.9 kB)\n",
      "Requirement already satisfied: six in /opt/conda/lib/python3.11/site-packages (from ipython-sql) (1.16.0)\n",
      "Requirement already satisfied: ipython-genutils in /opt/conda/lib/python3.11/site-packages (from ipython-sql) (0.2.0)\n",
      "Requirement already satisfied: typing-extensions>=4.6.0 in /opt/conda/lib/python3.11/site-packages (from sqlalchemy>=2.0->ipython-sql) (4.11.0)\n",
      "Requirement already satisfied: greenlet!=0.4.17 in /opt/conda/lib/python3.11/site-packages (from sqlalchemy>=2.0->ipython-sql) (3.0.3)\n",
      "Requirement already satisfied: decorator in /opt/conda/lib/python3.11/site-packages (from ipython->ipython-sql) (5.1.1)\n",
      "Requirement already satisfied: jedi>=0.16 in /opt/conda/lib/python3.11/site-packages (from ipython->ipython-sql) (0.19.1)\n",
      "Requirement already satisfied: matplotlib-inline in /opt/conda/lib/python3.11/site-packages (from ipython->ipython-sql) (0.1.7)\n",
      "Requirement already satisfied: prompt-toolkit<3.1.0,>=3.0.41 in /opt/conda/lib/python3.11/site-packages (from ipython->ipython-sql) (3.0.42)\n",
      "Requirement already satisfied: pygments>=2.4.0 in /opt/conda/lib/python3.11/site-packages (from ipython->ipython-sql) (2.18.0)\n",
      "Requirement already satisfied: stack-data in /opt/conda/lib/python3.11/site-packages (from ipython->ipython-sql) (0.6.2)\n",
      "Requirement already satisfied: traitlets>=5.13.0 in /opt/conda/lib/python3.11/site-packages (from ipython->ipython-sql) (5.14.3)\n",
      "Requirement already satisfied: pexpect>4.3 in /opt/conda/lib/python3.11/site-packages (from ipython->ipython-sql) (4.9.0)\n",
      "Requirement already satisfied: wcwidth in /opt/conda/lib/python3.11/site-packages (from prettytable->ipython-sql) (0.2.13)\n",
      "Requirement already satisfied: parso<0.9.0,>=0.8.3 in /opt/conda/lib/python3.11/site-packages (from jedi>=0.16->ipython->ipython-sql) (0.8.4)\n",
      "Requirement already satisfied: ptyprocess>=0.5 in /opt/conda/lib/python3.11/site-packages (from pexpect>4.3->ipython->ipython-sql) (0.7.0)\n",
      "Requirement already satisfied: executing>=1.2.0 in /opt/conda/lib/python3.11/site-packages (from stack-data->ipython->ipython-sql) (2.0.1)\n",
      "Requirement already satisfied: asttokens>=2.1.0 in /opt/conda/lib/python3.11/site-packages (from stack-data->ipython->ipython-sql) (2.4.1)\n",
      "Requirement already satisfied: pure-eval in /opt/conda/lib/python3.11/site-packages (from stack-data->ipython->ipython-sql) (0.2.2)\n",
      "Downloading ipython_sql-0.5.0-py3-none-any.whl (20 kB)\n",
      "Downloading SQLAlchemy-2.0.34-cp311-cp311-manylinux_2_17_x86_64.manylinux2014_x86_64.whl (3.2 MB)\n",
      "\u001b[2K   \u001b[90m━━━━━━━━━━━━━━━━━━━━━━━━━━━━━━━━━━━━━━━━\u001b[0m \u001b[32m3.2/3.2 MB\u001b[0m \u001b[31m101.5 MB/s\u001b[0m eta \u001b[36m0:00:00\u001b[0m\n",
      "\u001b[?25hDownloading prettytable-3.11.0-py3-none-any.whl (28 kB)\n",
      "Downloading sqlparse-0.5.1-py3-none-any.whl (44 kB)\n",
      "\u001b[2K   \u001b[90m━━━━━━━━━━━━━━━━━━━━━━━━━━━━━━━━━━━━━━━━\u001b[0m \u001b[32m44.2/44.2 kB\u001b[0m \u001b[31m4.9 MB/s\u001b[0m eta \u001b[36m0:00:00\u001b[0m\n",
      "\u001b[?25hInstalling collected packages: sqlparse, sqlalchemy, prettytable, ipython-sql\n",
      "  Attempting uninstall: sqlalchemy\n",
      "    Found existing installation: SQLAlchemy 1.3.9\n",
      "    Uninstalling SQLAlchemy-1.3.9:\n",
      "      Successfully uninstalled SQLAlchemy-1.3.9\n",
      "Successfully installed ipython-sql-0.5.0 prettytable-3.11.0 sqlalchemy-2.0.34 sqlparse-0.5.1\n"
     ]
    }
   ],
   "source": [
    "!pip install ipython-sql"
   ]
  },
  {
   "cell_type": "code",
   "execution_count": 3,
   "metadata": {},
   "outputs": [],
   "source": [
    "%load_ext sql"
   ]
  },
  {
   "cell_type": "code",
   "execution_count": 4,
   "metadata": {},
   "outputs": [],
   "source": [
    "import csv, sqlite3\n",
    "\n",
    "con = sqlite3.connect(\"my_data1.db\")\n",
    "cur = con.cursor()"
   ]
  },
  {
   "cell_type": "code",
   "execution_count": 5,
   "metadata": {},
   "outputs": [],
   "source": [
    "!pip install -q pandas"
   ]
  },
  {
   "cell_type": "code",
   "execution_count": 6,
   "metadata": {},
   "outputs": [],
   "source": [
    "%sql sqlite:///my_data1.db"
   ]
  },
  {
   "cell_type": "code",
   "execution_count": 7,
   "metadata": {},
   "outputs": [],
   "source": [
    "import pandas as pd\n",
    "df = pd.read_csv(\"https://cf-courses-data.s3.us.cloud-object-storage.appdomain.cloud/IBM-DS0321EN-SkillsNetwork/labs/module_2/data/Spacex.csv\")\n",
    "# df.to_sql(\"SPACEXTBL\", con, if_exists='replace', index=False,method=\"multi\")"
   ]
  },
  {
   "cell_type": "markdown",
   "metadata": {},
   "source": [
    "**Note:This below code is added to remove blank rows from table**\n"
   ]
  },
  {
   "cell_type": "code",
   "execution_count": 8,
   "metadata": {},
   "outputs": [
    {
     "name": "stdout",
     "output_type": "stream",
     "text": [
      " * sqlite:///my_data1.db\n",
      "Done.\n"
     ]
    },
    {
     "data": {
      "text/plain": [
       "[]"
      ]
     },
     "execution_count": 8,
     "metadata": {},
     "output_type": "execute_result"
    }
   ],
   "source": [
    "#DROP THE TABLE IF EXISTS\n",
    "\n",
    "%sql DROP TABLE IF EXISTS SPACEXTABLE;"
   ]
  },
  {
   "cell_type": "code",
   "execution_count": 9,
   "metadata": {},
   "outputs": [
    {
     "name": "stdout",
     "output_type": "stream",
     "text": [
      " * sqlite:///my_data1.db\n",
      "(sqlite3.OperationalError) no such table: SPACEXTBL\n",
      "[SQL: create table SPACEXTABLE as select * from SPACEXTBL where Date is not null]\n",
      "(Background on this error at: https://sqlalche.me/e/20/e3q8)\n"
     ]
    }
   ],
   "source": [
    "%sql create table SPACEXTABLE as select * from SPACEXTBL where Date is not null"
   ]
  },
  {
   "cell_type": "markdown",
   "metadata": {},
   "source": [
    "## Tasks\n",
    "\n",
    "Now write and execute SQL queries to solve the assignment tasks.\n",
    "\n",
    "**Note: If the column names are in mixed case enclose it in double quotes\n",
    "   For Example \"Landing_Outcome\"**\n",
    "\n",
    "### Task 1\n",
    "\n",
    "\n",
    "\n",
    "\n",
    "##### Display the names of the unique launch sites  in the space mission\n"
   ]
  },
  {
   "cell_type": "code",
   "execution_count": 31,
   "metadata": {},
   "outputs": [
    {
     "name": "stdout",
     "output_type": "stream",
     "text": [
      " * sqlite:///my_data1.db\n",
      "Done.\n",
      " * sqlite:///my_data1.db\n",
      "(sqlite3.OperationalError) near \"FROM\": syntax error\n",
      "[SQL: FROM SPACEXTABLE;]\n",
      "(Background on this error at: https://sqlalche.me/e/20/e3q8)\n",
      " * sqlite:///my_data1.db\n",
      "(sqlite3.OperationalError) near \"result\": syntax error\n",
      "[SQL: result = %sql SELECT DISTINCT \"Launch_Site\" FROM SPACEXTABLE;]\n",
      "(Background on this error at: https://sqlalche.me/e/20/e3q8)\n",
      " * sqlite:///my_data1.db\n",
      "(sqlite3.OperationalError) near \"result\": syntax error\n",
      "[SQL: result]\n",
      "(Background on this error at: https://sqlalche.me/e/20/e3q8)\n"
     ]
    }
   ],
   "source": [
    "%sql SELECT DISTINCT \"Launch_Site\" \n",
    "%sql FROM SPACEXTABLE;\n",
    "\n",
    "# Executing the SQL query to get the unique launch sites\n",
    "%sql result = %sql SELECT DISTINCT \"Launch_Site\" FROM SPACEXTABLE;\n",
    "%sql result"
   ]
  },
  {
   "cell_type": "markdown",
   "metadata": {},
   "source": [
    "\n",
    "### Task 2\n",
    "\n",
    "\n",
    "#####  Display 5 records where launch sites begin with the string 'CCA' \n"
   ]
  },
  {
   "cell_type": "code",
   "execution_count": 32,
   "metadata": {},
   "outputs": [
    {
     "name": "stdout",
     "output_type": "stream",
     "text": [
      " * sqlite:///my_data1.db\n",
      "(sqlite3.OperationalError) no tables specified\n",
      "[SQL: SELECT *]\n",
      "(Background on this error at: https://sqlalche.me/e/20/e3q8)\n",
      " * sqlite:///my_data1.db\n",
      "(sqlite3.OperationalError) near \"FROM\": syntax error\n",
      "[SQL: FROM SPACEXTABLE]\n",
      "(Background on this error at: https://sqlalche.me/e/20/e3q8)\n",
      " * sqlite:///my_data1.db\n",
      "(sqlite3.OperationalError) near \"WHERE\": syntax error\n",
      "[SQL: WHERE \"Launch_Site\" LIKE 'CCA%']\n",
      "(Background on this error at: https://sqlalche.me/e/20/e3q8)\n",
      " * sqlite:///my_data1.db\n",
      "(sqlite3.OperationalError) near \"LIMIT\": syntax error\n",
      "[SQL: LIMIT 5;]\n",
      "(Background on this error at: https://sqlalche.me/e/20/e3q8)\n",
      " * sqlite:///my_data1.db\n",
      "(sqlite3.OperationalError) near \"result\": syntax error\n",
      "[SQL: result = %sql SELECT * FROM SPACEXTABLE WHERE \"Launch_Site\" LIKE 'CCA%' LIMIT 5;]\n",
      "(Background on this error at: https://sqlalche.me/e/20/e3q8)\n",
      " * sqlite:///my_data1.db\n",
      "(sqlite3.OperationalError) near \"result\": syntax error\n",
      "[SQL: result]\n",
      "(Background on this error at: https://sqlalche.me/e/20/e3q8)\n"
     ]
    }
   ],
   "source": [
    "%sql SELECT *\n",
    "%sql FROM SPACEXTABLE\n",
    "%sql WHERE \"Launch_Site\" LIKE 'CCA%'\n",
    "%sql LIMIT 5;\n",
    "\n",
    "# Executing the SQL query to get 5 records where the launch site begins with 'CCA'\n",
    "%sql result = %sql SELECT * FROM SPACEXTABLE WHERE \"Launch_Site\" LIKE 'CCA%' LIMIT 5;\n",
    "%sql result"
   ]
  },
  {
   "cell_type": "markdown",
   "metadata": {},
   "source": [
    "### Task 3\n",
    "\n",
    "\n",
    "\n",
    "\n",
    "##### Display the total payload mass carried by boosters launched by NASA (CRS)\n"
   ]
  },
  {
   "cell_type": "code",
   "execution_count": 33,
   "metadata": {},
   "outputs": [
    {
     "name": "stdout",
     "output_type": "stream",
     "text": [
      " * sqlite:///my_data1.db\n",
      "Done.\n",
      " * sqlite:///my_data1.db\n",
      "(sqlite3.OperationalError) near \"FROM\": syntax error\n",
      "[SQL: FROM SPACEXTABLE]\n",
      "(Background on this error at: https://sqlalche.me/e/20/e3q8)\n",
      " * sqlite:///my_data1.db\n",
      "(sqlite3.OperationalError) near \"WHERE\": syntax error\n",
      "[SQL: WHERE \"Mission_Outcome\" LIKE '%NASA (CRS)%' ;]\n",
      "(Background on this error at: https://sqlalche.me/e/20/e3q8)\n",
      " * sqlite:///my_data1.db\n",
      "(sqlite3.OperationalError) near \"result\": syntax error\n",
      "[SQL: result = %sql SELECT SUM(\"PAYLOAD_MASS__KG_\") AS Total_Payload_Mass FROM SPACEXTABLE WHERE \"Mission_Outcome\" LIKE '%NASA (CRS)%' ;]\n",
      "(Background on this error at: https://sqlalche.me/e/20/e3q8)\n",
      " * sqlite:///my_data1.db\n",
      "(sqlite3.OperationalError) near \"result\": syntax error\n",
      "[SQL: result]\n",
      "(Background on this error at: https://sqlalche.me/e/20/e3q8)\n"
     ]
    }
   ],
   "source": [
    "%sql SELECT SUM(\"PAYLOAD_MASS__KG_\") AS Total_Payload_Mass\n",
    "%sql FROM SPACEXTABLE\n",
    "%sql WHERE \"Mission_Outcome\" LIKE '%NASA (CRS)%';\n",
    "\n",
    "%sql result = %sql SELECT SUM(\"PAYLOAD_MASS__KG_\") AS Total_Payload_Mass FROM SPACEXTABLE WHERE \"Mission_Outcome\" LIKE '%NASA (CRS)%';\n",
    "%sql result"
   ]
  },
  {
   "cell_type": "markdown",
   "metadata": {},
   "source": [
    "### Task 4\n",
    "\n",
    "\n",
    "\n",
    "\n",
    "##### Display average payload mass carried by booster version F9 v1.1\n"
   ]
  },
  {
   "cell_type": "code",
   "execution_count": 34,
   "metadata": {},
   "outputs": [
    {
     "name": "stdout",
     "output_type": "stream",
     "text": [
      " * sqlite:///my_data1.db\n",
      "Done.\n",
      " * sqlite:///my_data1.db\n",
      "(sqlite3.OperationalError) near \"FROM\": syntax error\n",
      "[SQL: FROM SPACEXTABLE]\n",
      "(Background on this error at: https://sqlalche.me/e/20/e3q8)\n",
      " * sqlite:///my_data1.db\n",
      "(sqlite3.OperationalError) near \"WHERE\": syntax error\n",
      "[SQL: WHERE \"Booster_Version\" = 'F9 v1.1' ;]\n",
      "(Background on this error at: https://sqlalche.me/e/20/e3q8)\n",
      " * sqlite:///my_data1.db\n",
      "(sqlite3.OperationalError) near \"result\": syntax error\n",
      "[SQL: result = %sql SELECT AVG(\"PAYLOAD_MASS__KG_\") AS Average_Payload_Mass FROM SPACEXTABLE WHERE \"Booster_Version\" = 'F9 v1.1' ;]\n",
      "(Background on this error at: https://sqlalche.me/e/20/e3q8)\n",
      " * sqlite:///my_data1.db\n",
      "(sqlite3.OperationalError) near \"result\": syntax error\n",
      "[SQL: result]\n",
      "(Background on this error at: https://sqlalche.me/e/20/e3q8)\n"
     ]
    }
   ],
   "source": [
    "%sql SELECT AVG(\"PAYLOAD_MASS__KG_\") AS Average_Payload_Mass\n",
    "%sql FROM SPACEXTABLE\n",
    "%sql WHERE \"Booster_Version\" = 'F9 v1.1';\n",
    "\n",
    "# Run the SQL query to calculate the average payload mass carried by F9 v1.1 boosters\n",
    "%sql result = %sql SELECT AVG(\"PAYLOAD_MASS__KG_\") AS Average_Payload_Mass FROM SPACEXTABLE WHERE \"Booster_Version\" = 'F9 v1.1';\n",
    "\n",
    "# Display the result\n",
    "%sql result"
   ]
  },
  {
   "cell_type": "markdown",
   "metadata": {},
   "source": [
    "### Task 5\n",
    "\n",
    "##### List the date when the first succesful landing outcome in ground pad was acheived.\n",
    "\n",
    "\n",
    "_Hint:Use min function_ \n"
   ]
  },
  {
   "cell_type": "code",
   "execution_count": 36,
   "metadata": {},
   "outputs": [
    {
     "name": "stdout",
     "output_type": "stream",
     "text": [
      " * sqlite:///my_data1.db\n",
      "Done.\n",
      " * sqlite:///my_data1.db\n",
      "(sqlite3.OperationalError) near \"FROM\": syntax error\n",
      "[SQL: FROM SPACEXTABLE]\n",
      "(Background on this error at: https://sqlalche.me/e/20/e3q8)\n",
      " * sqlite:///my_data1.db\n",
      "(sqlite3.OperationalError) near \"WHERE\": syntax error\n",
      "[SQL: WHERE \"Landing_Outcome\" = 'Success (ground pad)' ;]\n",
      "(Background on this error at: https://sqlalche.me/e/20/e3q8)\n",
      " * sqlite:///my_data1.db\n",
      "(sqlite3.OperationalError) near \"result\": syntax error\n",
      "[SQL: result = %sql SELECT MIN(\"Date\") AS First_Successful_Landing FROM SPACEXTABLE WHERE \"Landing_Outcome\" = 'Success (ground pad)' ;]\n",
      "(Background on this error at: https://sqlalche.me/e/20/e3q8)\n"
     ]
    }
   ],
   "source": [
    "%sql SELECT MIN(\"Date\") AS First_Successful_Landing\n",
    "%sql FROM SPACEXTABLE\n",
    "%sql WHERE \"Landing_Outcome\" = 'Success (ground pad)';\n",
    "\n",
    "# Run the SQL query to find the date of the first successful ground pad landing\n",
    "%sql result = %sql SELECT MIN(\"Date\") AS First_Successful_Landing FROM SPACEXTABLE WHERE \"Landing_Outcome\" = 'Success (ground pad)';\n",
    "\n"
   ]
  },
  {
   "cell_type": "markdown",
   "metadata": {},
   "source": [
    "### Task 6\n",
    "\n",
    "##### List the names of the boosters which have success in drone ship and have payload mass greater than 4000 but less than 6000\n"
   ]
  },
  {
   "cell_type": "code",
   "execution_count": 38,
   "metadata": {},
   "outputs": [
    {
     "name": "stdout",
     "output_type": "stream",
     "text": [
      " * sqlite:///my_data1.db\n",
      "Done.\n",
      " * sqlite:///my_data1.db\n",
      "(sqlite3.OperationalError) near \"FROM\": syntax error\n",
      "[SQL: FROM SPACEXTABLE]\n",
      "(Background on this error at: https://sqlalche.me/e/20/e3q8)\n",
      " * sqlite:///my_data1.db\n",
      "(sqlite3.OperationalError) near \"WHERE\": syntax error\n",
      "[SQL: WHERE \"Landing_Outcome\" = 'Success (drone ship)']\n",
      "(Background on this error at: https://sqlalche.me/e/20/e3q8)\n",
      " * sqlite:///my_data1.db\n",
      "(sqlite3.OperationalError) near \"AND\": syntax error\n",
      "[SQL: AND \"PAYLOAD_MASS__KG_\" > 4000]\n",
      "(Background on this error at: https://sqlalche.me/e/20/e3q8)\n",
      " * sqlite:///my_data1.db\n",
      "(sqlite3.OperationalError) near \"AND\": syntax error\n",
      "[SQL: AND \"PAYLOAD_MASS__KG_\" < 6000;]\n",
      "(Background on this error at: https://sqlalche.me/e/20/e3q8)\n",
      " * sqlite:///my_data1.db\n",
      "(sqlite3.OperationalError) near \"result\": syntax error\n",
      "[SQL: result = %sql SELECT \"Booster_Version\" FROM SPACEXTABLE WHERE \"Landing_Outcome\" = 'Success (drone ship)' AND \"PAYLOAD_MASS__KG_\" > 4000 AND \"PAYLOAD_MASS__KG_\" < 6000;]\n",
      "(Background on this error at: https://sqlalche.me/e/20/e3q8)\n"
     ]
    }
   ],
   "source": [
    "%sql SELECT \"Booster_Version\"\n",
    "%sql FROM SPACEXTABLE\n",
    "%sql WHERE \"Landing_Outcome\" = 'Success (drone ship)'\n",
    "%sql AND \"PAYLOAD_MASS__KG_\" > 4000 \n",
    "%sql AND \"PAYLOAD_MASS__KG_\" < 6000;\n",
    "\n",
    "# Run the SQL query to list booster names with success on drone ship and payload mass between 4000 and 6000 kg\n",
    "%sql result = %sql SELECT \"Booster_Version\" FROM SPACEXTABLE WHERE \"Landing_Outcome\" = 'Success (drone ship)' AND \"PAYLOAD_MASS__KG_\" > 4000 AND \"PAYLOAD_MASS__KG_\" < 6000;"
   ]
  },
  {
   "cell_type": "markdown",
   "metadata": {},
   "source": [
    "### Task 7\n",
    "\n",
    "\n",
    "\n",
    "\n",
    "##### List the total number of successful and failure mission outcomes\n"
   ]
  },
  {
   "cell_type": "code",
   "execution_count": 39,
   "metadata": {},
   "outputs": [
    {
     "name": "stdout",
     "output_type": "stream",
     "text": [
      " * sqlite:///my_data1.db\n",
      "Done.\n",
      " * sqlite:///my_data1.db\n",
      "(sqlite3.OperationalError) near \"FROM\": syntax error\n",
      "[SQL: FROM SPACEXTABLE]\n",
      "(Background on this error at: https://sqlalche.me/e/20/e3q8)\n",
      " * sqlite:///my_data1.db\n",
      "(sqlite3.OperationalError) near \"GROUP\": syntax error\n",
      "[SQL: GROUP BY \"Mission_Outcome\" ;]\n",
      "(Background on this error at: https://sqlalche.me/e/20/e3q8)\n",
      " * sqlite:///my_data1.db\n",
      "(sqlite3.OperationalError) near \"result\": syntax error\n",
      "[SQL: result = %sql SELECT \"Mission_Outcome\" , COUNT(*) AS Total_Count FROM SPACEXTABLE GROUP BY \"Mission_Outcome\" ;]\n",
      "(Background on this error at: https://sqlalche.me/e/20/e3q8)\n"
     ]
    }
   ],
   "source": [
    "%sql SELECT \"Mission_Outcome\", COUNT(*) AS Total_Count\n",
    "%sql FROM SPACEXTABLE\n",
    "%sql GROUP BY \"Mission_Outcome\";\n",
    "\n",
    "# Run the SQL query to count the total number of successful and failed mission outcomes\n",
    "%sql result = %sql SELECT \"Mission_Outcome\", COUNT(*) AS Total_Count FROM SPACEXTABLE GROUP BY \"Mission_Outcome\";\n"
   ]
  },
  {
   "cell_type": "markdown",
   "metadata": {},
   "source": [
    "### Task 8\n",
    "\n",
    "\n",
    "\n",
    "##### List the   names of the booster_versions which have carried the maximum payload mass. Use a subquery\n"
   ]
  },
  {
   "cell_type": "code",
   "execution_count": 43,
   "metadata": {},
   "outputs": [
    {
     "name": "stdout",
     "output_type": "stream",
     "text": [
      " * sqlite:///my_data1.db\n",
      "Done.\n",
      " * sqlite:///my_data1.db\n",
      "(sqlite3.OperationalError) near \"FROM\": syntax error\n",
      "[SQL: FROM SPACEXTABLE]\n",
      "(Background on this error at: https://sqlalche.me/e/20/e3q8)\n",
      " * sqlite:///my_data1.db\n",
      "(sqlite3.OperationalError) near \"WHERE\": syntax error\n",
      "[SQL: WHERE \"PAYLOAD_MASS__KG_\" = (]\n",
      "(Background on this error at: https://sqlalche.me/e/20/e3q8)\n",
      " * sqlite:///my_data1.db\n",
      "Done.\n",
      " * sqlite:///my_data1.db\n",
      "(sqlite3.OperationalError) near \"FROM\": syntax error\n",
      "[SQL: FROM SPACEXTABLE]\n",
      "(Background on this error at: https://sqlalche.me/e/20/e3q8)\n",
      " * sqlite:///my_data1.db\n",
      "(sqlite3.OperationalError) near \")\": syntax error\n",
      "[SQL: );]\n",
      "(Background on this error at: https://sqlalche.me/e/20/e3q8)\n",
      " * sqlite:///my_data1.db\n",
      "(sqlite3.OperationalError) near \"result\": syntax error\n",
      "[SQL: result = %sql SELECT \"Booster_Version\" FROM SPACEXTABLE WHERE \"PAYLOAD_MASS__KG_\" = (SELECT MAX(\"PAYLOAD_MASS__KG_\") FROM SPACEXTABLE);]\n",
      "(Background on this error at: https://sqlalche.me/e/20/e3q8)\n",
      " * sqlite:///my_data1.db\n",
      "(sqlite3.OperationalError) unrecognized token: \"#\"\n",
      "[SQL: # Display the result]\n",
      "(Background on this error at: https://sqlalche.me/e/20/e3q8)\n"
     ]
    },
    {
     "ename": "NameError",
     "evalue": "name 'result' is not defined",
     "output_type": "error",
     "traceback": [
      "\u001b[0;31m---------------------------------------------------------------------------\u001b[0m",
      "\u001b[0;31mNameError\u001b[0m                                 Traceback (most recent call last)",
      "Cell \u001b[0;32mIn[43], line 12\u001b[0m\n\u001b[1;32m      9\u001b[0m get_ipython()\u001b[38;5;241m.\u001b[39mrun_line_magic(\u001b[38;5;124m'\u001b[39m\u001b[38;5;124msql\u001b[39m\u001b[38;5;124m'\u001b[39m, \u001b[38;5;124m'\u001b[39m\u001b[38;5;124mresult = \u001b[39m\u001b[38;5;132;01m%s\u001b[39;00m\u001b[38;5;124mql SELECT \u001b[39m\u001b[38;5;124m\"\u001b[39m\u001b[38;5;124mBooster_Version\u001b[39m\u001b[38;5;124m\"\u001b[39m\u001b[38;5;124m FROM SPACEXTABLE WHERE \u001b[39m\u001b[38;5;124m\"\u001b[39m\u001b[38;5;124mPAYLOAD_MASS__KG_\u001b[39m\u001b[38;5;124m\"\u001b[39m\u001b[38;5;124m = (SELECT MAX(\u001b[39m\u001b[38;5;124m\"\u001b[39m\u001b[38;5;124mPAYLOAD_MASS__KG_\u001b[39m\u001b[38;5;124m\"\u001b[39m\u001b[38;5;124m) FROM SPACEXTABLE);\u001b[39m\u001b[38;5;124m'\u001b[39m)\n\u001b[1;32m     11\u001b[0m get_ipython()\u001b[38;5;241m.\u001b[39mrun_line_magic(\u001b[38;5;124m'\u001b[39m\u001b[38;5;124msql\u001b[39m\u001b[38;5;124m'\u001b[39m, \u001b[38;5;124m'\u001b[39m\u001b[38;5;124m# Display the result\u001b[39m\u001b[38;5;124m'\u001b[39m)\n\u001b[0;32m---> 12\u001b[0m \u001b[43mresult\u001b[49m\n",
      "\u001b[0;31mNameError\u001b[0m: name 'result' is not defined"
     ]
    }
   ],
   "source": [
    "%sql SELECT \"Booster_Version\"\n",
    "%sql FROM SPACEXTABLE\n",
    "%sql WHERE \"PAYLOAD_MASS__KG_\" = (\n",
    "%sql SELECT MAX(\"PAYLOAD_MASS__KG_\")\n",
    "%sql    FROM SPACEXTABLE\n",
    "%sql );\n",
    "\n",
    "# Run the SQL query to list the names of the booster versions that have carried the maximum payload mass\n",
    "%sql result = %sql SELECT \"Booster_Version\" FROM SPACEXTABLE WHERE \"PAYLOAD_MASS__KG_\" = (SELECT MAX(\"PAYLOAD_MASS__KG_\") FROM SPACEXTABLE);\n",
    "\n",
    "%sql # Display the result\n",
    "result"
   ]
  },
  {
   "cell_type": "markdown",
   "metadata": {},
   "source": [
    "### Task 9\n",
    "\n",
    "\n",
    "##### List the records which will display the month names, failure landing_outcomes in drone ship ,booster versions, launch_site for the months in year 2015.\n",
    "\n",
    "**Note: SQLLite does not support monthnames. So you need to use  substr(Date, 6,2) as month to get the months and substr(Date,0,5)='2015' for year.**\n"
   ]
  },
  {
   "cell_type": "code",
   "execution_count": 42,
   "metadata": {},
   "outputs": [
    {
     "ename": "IndentationError",
     "evalue": "unexpected indent (3903220683.py, line 2)",
     "output_type": "error",
     "traceback": [
      "\u001b[0;36m  Cell \u001b[0;32mIn[42], line 2\u001b[0;36m\u001b[0m\n\u001b[0;31m    get_ipython().run_line_magic('sql', '   CASE substr(\"Date\", 6, 2)')\u001b[0m\n\u001b[0m    ^\u001b[0m\n\u001b[0;31mIndentationError\u001b[0m\u001b[0;31m:\u001b[0m unexpected indent\n"
     ]
    }
   ],
   "source": [
    "%sql SELECT \n",
    " %sql    CASE substr(\"Date\", 6, 2)\n",
    "  %sql       WHEN '01' THEN 'January'\n",
    "  %sql       WHEN '02' THEN 'February'\n",
    " %sql        WHEN '03' THEN 'March'\n",
    " %sql        WHEN '04' THEN 'April'\n",
    "  %sql       WHEN '05' THEN 'May'\n",
    "  %sql       WHEN '06' THEN 'June'\n",
    " %sql        WHEN '07' THEN 'July'\n",
    " %sql        WHEN '08' THEN 'August'\n",
    " %sql        WHEN '09' THEN 'September'\n",
    " %sql        WHEN '10' THEN 'October'\n",
    " %sql        WHEN '11' THEN 'November'\n",
    " %sql        WHEN '12' THEN 'December'\n",
    "%sql     END AS Month_Name,\n",
    " %sql    \"Landing_Outcome\",\n",
    " %sql    \"Booster_Version\",\n",
    " %sql    \"Launch_Site\"\n",
    "%sql FROM SPACEXTABLE\n",
    "%sql WHERE \"Landing_Outcome\" = 'Failure (drone ship)'\n",
    "%sql AND substr(\"Date\", 1, 4) = '2015';\n",
    "\n",
    "# Run the SQL query to list records with month names, failure landing outcomes in drone ship, booster versions, and launch sites for 2015\n",
    "%sql result = %sql SELECT \\\n",
    "%sql     CASE substr(\"Date\", 6, 2) \\\n",
    "%sql         WHEN '01' THEN 'January' \\\n",
    "%sql         WHEN '02' THEN 'February' \\\n",
    "%sql         WHEN '03' THEN 'March' \\\n",
    " %sql        WHEN '04' THEN 'April' \\\n",
    "%sql         WHEN '05' THEN 'May' \\\n",
    " %sql        WHEN '06' THEN 'June' \\\n",
    " %sql        WHEN '07' THEN 'July' \\\n",
    "%sql         WHEN '08' THEN 'August' \\\n",
    "%sql         WHEN '09' THEN 'September' \\\n",
    "%sql         WHEN '10' THEN 'October' \\\n",
    " %sql        WHEN '11' THEN 'November' \\\n",
    " %sql        WHEN '12' THEN 'December' \\\n",
    " %sql    END AS Month_Name, \\\n",
    "%sql     \"Landing_Outcome\", \\\n",
    "%sql     \"Booster_Version\", \\\n",
    "%sql     \"Launch_Site\" \\\n",
    "%sql FROM SPACEXTABLE \\\n",
    "%sql WHERE \"Landing_Outcome\" = 'Failure (drone ship)' \\\n",
    "%sql AND substr(\"Date\", 1, 4) = '2015';\n",
    "\n",
    "# Display the result\n",
    "%sql result"
   ]
  },
  {
   "cell_type": "markdown",
   "metadata": {},
   "source": [
    "### Task 10\n",
    "\n",
    "\n",
    "\n",
    "\n",
    "##### Rank the count of landing outcomes (such as Failure (drone ship) or Success (ground pad)) between the date 2010-06-04 and 2017-03-20, in descending order.\n"
   ]
  },
  {
   "cell_type": "code",
   "execution_count": 44,
   "metadata": {},
   "outputs": [
    {
     "name": "stdout",
     "output_type": "stream",
     "text": [
      " * sqlite:///my_data1.db\n",
      "Done.\n",
      " * sqlite:///my_data1.db\n",
      "(sqlite3.OperationalError) near \"FROM\": syntax error\n",
      "[SQL: FROM SPACEXTABLE]\n",
      "(Background on this error at: https://sqlalche.me/e/20/e3q8)\n",
      " * sqlite:///my_data1.db\n",
      "(sqlite3.OperationalError) near \"WHERE\": syntax error\n",
      "[SQL: WHERE \"Date\" BETWEEN '2010-06-04' AND '2017-03-20']\n",
      "(Background on this error at: https://sqlalche.me/e/20/e3q8)\n",
      " * sqlite:///my_data1.db\n",
      "(sqlite3.OperationalError) near \"GROUP\": syntax error\n",
      "[SQL: GROUP BY \"Landing_Outcome\"]\n",
      "(Background on this error at: https://sqlalche.me/e/20/e3q8)\n",
      " * sqlite:///my_data1.db\n",
      "(sqlite3.OperationalError) near \"ORDER\": syntax error\n",
      "[SQL: ORDER BY Count DESC;]\n",
      "(Background on this error at: https://sqlalche.me/e/20/e3q8)\n",
      " * sqlite:///my_data1.db\n",
      "(sqlite3.OperationalError) near \"result\": syntax error\n",
      "[SQL: result = %sql SELECT \"Landing_Outcome\" , COUNT(*) AS Count %sql FROM SPACEXTABLE %sql WHERE \"Date\" BETWEEN '2010-06-04' AND '2017-03-20' %sql GROUP BY \"Landing_Outcome\" %sql ORDER BY Count DESC;]\n",
      "(Background on this error at: https://sqlalche.me/e/20/e3q8)\n"
     ]
    }
   ],
   "source": [
    "%sql SELECT \"Landing_Outcome\", COUNT(*) AS Count\n",
    "%sql FROM SPACEXTABLE\n",
    "%sql WHERE \"Date\" BETWEEN '2010-06-04' AND '2017-03-20'\n",
    "%sql GROUP BY \"Landing_Outcome\"\n",
    "%sql ORDER BY Count DESC;\n",
    "\n",
    "# Run the SQL query to rank the count of landing outcomes between the specified dates\n",
    "%sql result = %sql SELECT \"Landing_Outcome\", COUNT(*) AS Count \\\n",
    "%sql FROM SPACEXTABLE \\\n",
    "%sql WHERE \"Date\" BETWEEN '2010-06-04' AND '2017-03-20' \\\n",
    "%sql GROUP BY \"Landing_Outcome\" \\\n",
    "%sql ORDER BY Count DESC;"
   ]
  },
  {
   "cell_type": "markdown",
   "metadata": {},
   "source": [
    "### Reference Links\n",
    "\n",
    "* <a href =\"https://cf-courses-data.s3.us.cloud-object-storage.appdomain.cloud/IBMDeveloperSkillsNetwork-DB0201EN-SkillsNetwork/labs/Labs_Coursera_V5/labs/Lab%20-%20String%20Patterns%20-%20Sorting%20-%20Grouping/instructional-labs.md.html?origin=www.coursera.org\">Hands-on Lab : String Patterns, Sorting and Grouping</a>  \n",
    "\n",
    "*  <a  href=\"https://cf-courses-data.s3.us.cloud-object-storage.appdomain.cloud/IBMDeveloperSkillsNetwork-DB0201EN-SkillsNetwork/labs/Labs_Coursera_V5/labs/Lab%20-%20Built-in%20functions%20/Hands-on_Lab__Built-in_Functions.md.html?origin=www.coursera.org\">Hands-on Lab: Built-in functions</a>\n",
    "\n",
    "*  <a  href=\"https://cf-courses-data.s3.us.cloud-object-storage.appdomain.cloud/IBMDeveloperSkillsNetwork-DB0201EN-SkillsNetwork/labs/Labs_Coursera_V5/labs/Lab%20-%20Sub-queries%20and%20Nested%20SELECTs%20/instructional-labs.md.html?origin=www.coursera.org\">Hands-on Lab : Sub-queries and Nested SELECT Statements</a>\n",
    "\n",
    "*   <a href=\"https://cf-courses-data.s3.us.cloud-object-storage.appdomain.cloud/IBMDeveloperSkillsNetwork-DB0201EN-SkillsNetwork/labs/Module%205/DB0201EN-Week3-1-3-SQLmagic.ipynb\">Hands-on Tutorial: Accessing Databases with SQL magic</a>\n",
    "\n",
    "*  <a href= \"https://cf-courses-data.s3.us.cloud-object-storage.appdomain.cloud/IBMDeveloperSkillsNetwork-DB0201EN-SkillsNetwork/labs/Module%205/DB0201EN-Week3-1-4-Analyzing.ipynb\">Hands-on Lab: Analyzing a real World Data Set</a>\n",
    "\n",
    "\n"
   ]
  },
  {
   "cell_type": "markdown",
   "metadata": {},
   "source": [
    "## Author(s)\n",
    "\n",
    "<h4> Lakshmi Holla </h4>\n"
   ]
  },
  {
   "cell_type": "markdown",
   "metadata": {},
   "source": [
    "## Other Contributors\n",
    "\n",
    "<h4> Rav Ahuja </h4>\n"
   ]
  },
  {
   "cell_type": "markdown",
   "metadata": {},
   "source": [
    "<!--\n",
    "## Change log\n",
    "| Date | Version | Changed by | Change Description |\n",
    "|------|--------|--------|---------|\n",
    "| 2024-07-10 | 1.1 |Anita Verma | Changed Version|\n",
    "| 2021-07-09 | 0.2 |Lakshmi Holla | Changes made in magic sql|\n",
    "| 2021-05-20 | 0.1 |Lakshmi Holla | Created Initial Version |\n",
    "-->\n"
   ]
  },
  {
   "cell_type": "markdown",
   "metadata": {},
   "source": [
    "## <h3 align=\"center\"> © IBM Corporation 2021. All rights reserved. <h3/>\n"
   ]
  }
 ],
 "metadata": {
  "kernelspec": {
   "display_name": "Python 3 (ipykernel)",
   "language": "python",
   "name": "python3"
  },
  "language_info": {
   "codemirror_mode": {
    "name": "ipython",
    "version": 3
   },
   "file_extension": ".py",
   "mimetype": "text/x-python",
   "name": "python",
   "nbconvert_exporter": "python",
   "pygments_lexer": "ipython3",
   "version": "3.11.9"
  },
  "prev_pub_hash": "a5fa84525a820d08c9ec9c9cccf7d39455745aa2be6c2efdd18931346283d2d9"
 },
 "nbformat": 4,
 "nbformat_minor": 4
}
